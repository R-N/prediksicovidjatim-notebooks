{
 "cells": [
  {
   "cell_type": "code",
   "execution_count": 1,
   "metadata": {},
   "outputs": [],
   "source": [
    "import numpy as np\n",
    "import os\n",
    "import sys\n",
    "\n",
    "from prediksicovidjatim import database, util\n",
    "\n",
    "database.init()"
   ]
  },
  {
   "cell_type": "code",
   "execution_count": 2,
   "metadata": {},
   "outputs": [],
   "source": [
    "from prediksicovidjatim.data.model import ModelDataRepo"
   ]
  },
  {
   "cell_type": "code",
   "execution_count": 3,
   "metadata": {},
   "outputs": [],
   "source": [
    "score_headers = [\n",
    "    \"Variabel Bebas\", \n",
    "    \"Max Error\", \n",
    "    \"MAE/MAD\", \n",
    "    \"RMSE\", \n",
    "    \"RMSLE\", \n",
    "    \"R-squared\", \n",
    "    \"Adjusted R-squared\", \n",
    "    \"SMAPE\", \n",
    "    \"MASE\", \n",
    "    \"Reduced Chi-Square\", \n",
    "    \"AIC\", \n",
    "    \"AICc\", \n",
    "    \"BIC\"\n",
    "]"
   ]
  },
  {
   "cell_type": "code",
   "execution_count": 4,
   "metadata": {},
   "outputs": [],
   "source": [
    "def _preprocess_scores(scores):\n",
    "    if len(scores) == 0:\n",
    "        return [], []\n",
    "    scores = util.transpose_list_list(scores)\n",
    "    sets = scores.pop(0)\n",
    "    scores = [(score_headers[i], scores[i]) for i in range(0, len(score_headers))]\n",
    "    return sets, scores"
   ]
  },
  {
   "cell_type": "code",
   "execution_count": 5,
   "metadata": {},
   "outputs": [
    {
     "data": {
      "text/plain": [
       "5"
      ]
     },
     "execution_count": 5,
     "metadata": {},
     "output_type": "execute_result"
    }
   ],
   "source": [
    "scores, test_scores = ModelDataRepo.fetch_scores(\"KOTA BLITAR\")\n",
    "len(scores)"
   ]
  },
  {
   "cell_type": "code",
   "execution_count": 6,
   "metadata": {},
   "outputs": [
    {
     "data": {
      "text/plain": [
       "['Positif Aktif',\n",
       " 'Positif RS',\n",
       " 'Positif Sembuh',\n",
       " 'Positif Meninggal',\n",
       " 'Agregat']"
      ]
     },
     "execution_count": 6,
     "metadata": {},
     "output_type": "execute_result"
    }
   ],
   "source": [
    "sets, scores = _preprocess_scores(scores)\n",
    "sets"
   ]
  },
  {
   "cell_type": "code",
   "execution_count": 7,
   "metadata": {},
   "outputs": [
    {
     "data": {
      "text/plain": [
       "[('Variabel Bebas', [8, 8, 8, 8, 8]),\n",
       " ('Max Error',\n",
       "  [7.791821763161167,\n",
       "   5.5756941830332565,\n",
       "   7.466540752380807,\n",
       "   1.547352676330186,\n",
       "   7.791821763161167]),\n",
       " ('MAE/MAD',\n",
       "  [0.9839473554406302,\n",
       "   0.8553041109422135,\n",
       "   1.7734011042460598,\n",
       "   0.3878163934160987,\n",
       "   1.0001172410112504])]"
      ]
     },
     "execution_count": 7,
     "metadata": {},
     "output_type": "execute_result"
    }
   ],
   "source": [
    "scores[:3]"
   ]
  },
  {
   "cell_type": "code",
   "execution_count": 8,
   "metadata": {},
   "outputs": [
    {
     "data": {
      "text/plain": [
       "array([1.])"
      ]
     },
     "execution_count": 8,
     "metadata": {},
     "output_type": "execute_result"
    }
   ],
   "source": [
    "np.round([1.2345], 0)"
   ]
  }
 ],
 "metadata": {
  "kernelspec": {
   "display_name": "Python 3",
   "language": "python",
   "name": "python3"
  },
  "language_info": {
   "codemirror_mode": {
    "name": "ipython",
    "version": 3
   },
   "file_extension": ".py",
   "mimetype": "text/x-python",
   "name": "python",
   "nbconvert_exporter": "python",
   "pygments_lexer": "ipython3",
   "version": "3.7.6"
  }
 },
 "nbformat": 4,
 "nbformat_minor": 4
}
