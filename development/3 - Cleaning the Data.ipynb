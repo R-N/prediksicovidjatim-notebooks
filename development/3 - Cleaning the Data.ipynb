{
 "cells": [
  {
   "cell_type": "markdown",
   "metadata": {},
   "source": [
    "# Cleaning the Data"
   ]
  },
  {
   "cell_type": "code",
   "execution_count": 1,
   "metadata": {},
   "outputs": [],
   "source": [
    "import os\n",
    "import sys\n",
    "#sys.path.insert(0, \"../../\")\n",
    "\n",
    "import warnings\n",
    "warnings.filterwarnings('ignore')\n",
    "\n",
    "from prediksicovidjatim import util, config, database\n",
    "from prediksicovidjatim.data.raw import RawDataRepo\n",
    "from prediksicovidjatim.data.raw.entities import RawData\n",
    "\n",
    "database.init()"
   ]
  },
  {
   "cell_type": "code",
   "execution_count": 2,
   "metadata": {},
   "outputs": [
    {
     "data": {
      "text/plain": [
       "38"
      ]
     },
     "execution_count": 2,
     "metadata": {},
     "output_type": "execute_result"
    }
   ],
   "source": [
    "kabko = RawDataRepo.fetch_kabko()\n",
    "len(kabko)"
   ]
  },
  {
   "cell_type": "code",
   "execution_count": 3,
   "metadata": {},
   "outputs": [
    {
     "data": {
      "text/plain": [
       "'KAB. BANGKALAN'"
      ]
     },
     "execution_count": 3,
     "metadata": {},
     "output_type": "execute_result"
    }
   ],
   "source": [
    "selected_kabko = kabko[0]\n",
    "selected_kabko"
   ]
  },
  {
   "cell_type": "code",
   "execution_count": 4,
   "metadata": {},
   "outputs": [
    {
     "data": {
      "text/plain": [
       "129"
      ]
     },
     "execution_count": 4,
     "metadata": {},
     "output_type": "execute_result"
    }
   ],
   "source": [
    "data = RawDataRepo.fetch_data(selected_kabko)\n",
    "len(data)"
   ]
  },
  {
   "cell_type": "markdown",
   "metadata": {},
   "source": [
    "## Wrong Input Field"
   ]
  },
  {
   "cell_type": "markdown",
   "metadata": {},
   "source": [
    "Some data seem to have been inputted into the wrong field. Like field a and field b were going steadily then one day it's suddenly flipped and returns normal the next day. This was fixed manually from database client. There were also some dead count which suddenly pops out and then vanishes in one day. The other field groups should also be considered because it might be a legit flow. Make sure to recalculate the row's totals if your changes should be changing it."
   ]
  },
  {
   "cell_type": "markdown",
   "metadata": {},
   "source": [
    "## Defected Data"
   ]
  },
  {
   "cell_type": "markdown",
   "metadata": {},
   "source": [
    "Some data just seem to be way too high or way too low, like it's got some extra digit or missing some digit. Ones with extra digits are fixed by removing the last digits. Ones with missing digits are fixed by adding trailing zeros. Make sure to recalculate the row's totals. These were done by hand."
   ]
  },
  {
   "cell_type": "markdown",
   "metadata": {},
   "source": [
    "## Missing Data"
   ]
  },
  {
   "cell_type": "markdown",
   "metadata": {},
   "source": [
    "There were cases where some data were going quite steadily and then one day they're all zeroes and goes back to similar values the next day. We should be filling this with interpolated value from neighboring data. For simplicity, linear interpolation was used. "
   ]
  },
  {
   "cell_type": "code",
   "execution_count": 5,
   "metadata": {},
   "outputs": [
    {
     "data": {
      "text/plain": [
       "70"
      ]
     },
     "execution_count": 5,
     "metadata": {},
     "output_type": "execute_result"
    }
   ],
   "source": [
    "start_index = util.get_date_index(data, \"2020-05-29\")\n",
    "start_index"
   ]
  },
  {
   "cell_type": "code",
   "execution_count": 6,
   "metadata": {},
   "outputs": [],
   "source": [
    "missing_count = 1"
   ]
  },
  {
   "cell_type": "code",
   "execution_count": 7,
   "metadata": {
    "scrolled": true
   },
   "outputs": [
    {
     "data": {
      "text/plain": [
       "[{'kabko': 'KAB. BANGKALAN',\n",
       "  'tanggal': '2020-05-29',\n",
       "  'odr': 19587,\n",
       "  'otg': 696,\n",
       "  'odp_total': 911,\n",
       "  'odp_belum': 0,\n",
       "  'odp_selesai': 369,\n",
       "  'odp_meninggal': 0,\n",
       "  'odp_rawat_total': 542,\n",
       "  'odp_rawat_rumah': 527,\n",
       "  'odp_rawat_gedung': 0,\n",
       "  'odp_rawat_rs': 15,\n",
       "  'pdp_total': 22,\n",
       "  'pdp_belum': 0,\n",
       "  'pdp_sehat': 3,\n",
       "  'pdp_meninggal': 13,\n",
       "  'pdp_rawat_total': 6,\n",
       "  'pdp_rawat_rumah': 0,\n",
       "  'pdp_rawat_gedung': 0,\n",
       "  'pdp_rawat_rs': 6,\n",
       "  'pos_total': 39,\n",
       "  'pos_sembuh': 6,\n",
       "  'pos_meninggal': 3,\n",
       "  'pos_rawat_total': 30,\n",
       "  'pos_rawat_rumah': 4,\n",
       "  'pos_rawat_gedung': 0,\n",
       "  'pos_rawat_rs': 26}]"
      ]
     },
     "execution_count": 7,
     "metadata": {},
     "output_type": "execute_result"
    }
   ],
   "source": [
    "missing = util.get_missing_data(data, start_index, missing_count) #last parameter is count of missing days in the missing span\n",
    "missing #If it's truly missing, all fields except kabko and tanggal should be 0"
   ]
  },
  {
   "cell_type": "code",
   "execution_count": 8,
   "metadata": {},
   "outputs": [
    {
     "data": {
      "text/plain": [
       "[{'kabko': 'KAB. BANGKALAN',\n",
       "  'tanggal': '2020-05-29',\n",
       "  'odr': 19575,\n",
       "  'otg': 694,\n",
       "  'odp_total': 913,\n",
       "  'odp_belum': 0,\n",
       "  'odp_selesai': 369,\n",
       "  'odp_meninggal': 0,\n",
       "  'odp_rawat_total': 544,\n",
       "  'odp_rawat_rumah': 529,\n",
       "  'odp_rawat_gedung': 0,\n",
       "  'odp_rawat_rs': 15,\n",
       "  'pdp_total': 23,\n",
       "  'pdp_belum': 0,\n",
       "  'pdp_sehat': 3,\n",
       "  'pdp_meninggal': 14,\n",
       "  'pdp_rawat_total': 6,\n",
       "  'pdp_rawat_rumah': 0,\n",
       "  'pdp_rawat_gedung': 0,\n",
       "  'pdp_rawat_rs': 6,\n",
       "  'pos_total': 40,\n",
       "  'pos_sembuh': 6,\n",
       "  'pos_meninggal': 3,\n",
       "  'pos_rawat_total': 31,\n",
       "  'pos_rawat_rumah': 5,\n",
       "  'pos_rawat_gedung': 0,\n",
       "  'pos_rawat_rs': 26}]"
      ]
     },
     "execution_count": 8,
     "metadata": {},
     "output_type": "execute_result"
    }
   ],
   "source": [
    "interpolated = util.lerp_missing_data(data, start_index, missing_count)\n",
    "interpolated"
   ]
  },
  {
   "cell_type": "markdown",
   "metadata": {},
   "source": [
    "#RawDataRepo.save_data(interpolated, upsert=True)"
   ]
  },
  {
   "cell_type": "markdown",
   "metadata": {},
   "source": [
    "## Incorrect Totals"
   ]
  },
  {
   "cell_type": "markdown",
   "metadata": {},
   "source": [
    "Logically, a total field should be reflected by its component values. The sum of all of its values should equal the total value. However, its component values is a categorization. There may be inconsistencies between the total and the categorization. Therefore, I made total_opt() and total_max(). Total_opt just returns total_calc() if it's non zero. Total_max just returns the max value between total field and total_calc(). While total_opt() might be wrong, it should be safe to fix the data with total_max(), although some may still be incorect."
   ]
  },
  {
   "cell_type": "markdown",
   "metadata": {},
   "source": [
    "#data_full = [x for k in kabko for x in RawDataRepo.fetch_data(k)]\n",
    "#len(data_full)"
   ]
  },
  {
   "cell_type": "markdown",
   "metadata": {},
   "source": [
    "#RawDataRepo.save_data([d.to_db_row(option=\"max\") for d in data_full], upsert=True)"
   ]
  },
  {
   "cell_type": "markdown",
   "metadata": {},
   "source": [
    "#RawDataRepo.trim_early_zeros()"
   ]
  },
  {
   "cell_type": "code",
   "execution_count": null,
   "metadata": {},
   "outputs": [],
   "source": []
  }
 ],
 "metadata": {
  "kernelspec": {
   "display_name": "Python 3",
   "language": "python",
   "name": "python3"
  },
  "language_info": {
   "codemirror_mode": {
    "name": "ipython",
    "version": 3
   },
   "file_extension": ".py",
   "mimetype": "text/x-python",
   "name": "python",
   "nbconvert_exporter": "python",
   "pygments_lexer": "ipython3",
   "version": "3.7.6"
  }
 },
 "nbformat": 4,
 "nbformat_minor": 4
}
