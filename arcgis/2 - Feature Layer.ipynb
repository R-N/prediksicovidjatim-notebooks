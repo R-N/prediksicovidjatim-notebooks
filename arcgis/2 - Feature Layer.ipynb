{
 "cells": [
  {
   "cell_type": "markdown",
   "metadata": {},
   "source": [
    "# Feature Layer"
   ]
  },
  {
   "cell_type": "markdown",
   "metadata": {},
   "source": [
    "Load environment variable from .env file with python-dotenv package"
   ]
  },
  {
   "cell_type": "code",
   "execution_count": 2,
   "metadata": {},
   "outputs": [],
   "source": [
    "import os\n",
    "from dotenv import load_dotenv # add this line\n",
    "\n",
    "load_dotenv() # add this line\n",
    "\n",
    "arcgis_user = os.getenv(\"ARCGIS_USER\")\n",
    "arcgis_pass = os.getenv(\"ARCGIS_PASS\")\n",
    "arcgis_portal = os.getenv(\"ARCGIS_PORTAL\")"
   ]
  },
  {
   "cell_type": "markdown",
   "metadata": {},
   "source": [
    "Make GIS object"
   ]
  },
  {
   "cell_type": "code",
   "execution_count": 3,
   "metadata": {
    "scrolled": true
   },
   "outputs": [
    {
     "data": {
      "text/html": [
       "GIS @ <a href=\"https://pcovidjatim.maps.arcgis.com\">https://pcovidjatim.maps.arcgis.com</a>"
      ],
      "text/plain": [
       "GIS @ https://pcovidjatim.maps.arcgis.com version:8.1"
      ]
     },
     "execution_count": 3,
     "metadata": {},
     "output_type": "execute_result"
    }
   ],
   "source": [
    "from arcgis.gis import GIS\n",
    "gis = GIS(arcgis_portal, arcgis_user, arcgis_pass)\n",
    "gis"
   ]
  },
  {
   "cell_type": "markdown",
   "metadata": {},
   "source": [
    "## Load Published Layer by Id"
   ]
  },
  {
   "cell_type": "markdown",
   "metadata": {},
   "source": [
    "Load jatim layer item by id"
   ]
  },
  {
   "cell_type": "code",
   "execution_count": 4,
   "metadata": {
    "scrolled": true
   },
   "outputs": [
    {
     "data": {
      "text/html": [
       "<div class=\"item_container\" style=\"height: auto; overflow: hidden; border: 1px solid #cfcfcf; border-radius: 2px; background: #f6fafa; line-height: 1.21429em; padding: 10px;\">\n",
       "                    <div class=\"item_left\" style=\"width: 210px; float: left;\">\n",
       "                       <a href='https://pcovidjatim.maps.arcgis.com/home/item.html?id=7a84aef70d1d401f82abfb8324066d54' target='_blank'>\n",
       "                        <img src='data:image/png;base64,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' width='200' height='133' class=\"itemThumbnail\">\n",
       "                       </a>\n",
       "                    </div>\n",
       "\n",
       "                    <div class=\"item_right\"     style=\"float: none; width: auto; overflow: hidden;\">\n",
       "                        <a href='https://pcovidjatim.maps.arcgis.com/home/item.html?id=7a84aef70d1d401f82abfb8324066d54' target='_blank'><b>Peta Sebaran Covid19 Jawa Timur</b>\n",
       "                        </a>\n",
       "                        <br/><img src='https://pcovidjatim.maps.arcgis.com/home/js/jsapi/esri/css/images/item_type_icons/featureshosted16.png' style=\"vertical-align:middle;\">Feature Layer Collection by prediksicovidjatim\n",
       "                        <br/>Last Modified: June 28, 2020\n",
       "                        <br/>0 comments, 131 views\n",
       "                    </div>\n",
       "                </div>\n",
       "                "
      ],
      "text/plain": [
       "<Item title:\"Peta Sebaran Covid19 Jawa Timur\" type:Feature Layer Collection owner:prediksicovidjatim>"
      ]
     },
     "execution_count": 4,
     "metadata": {},
     "output_type": "execute_result"
    }
   ],
   "source": [
    "jatim_id = '7a84aef70d1d401f82abfb8324066d54'\n",
    "jatim = gis.content.get(jatim_id)\n",
    "jatim"
   ]
  },
  {
   "cell_type": "markdown",
   "metadata": {},
   "source": [
    "## Check Available Layers"
   ]
  },
  {
   "cell_type": "code",
   "execution_count": 5,
   "metadata": {},
   "outputs": [
    {
     "data": {
      "text/plain": [
       "[<FeatureLayer url:\"https://services2.arcgis.com/gxevpFKXaRT0UMCs/arcgis/rest/services/jatim2_test/FeatureServer/0\">]"
      ]
     },
     "execution_count": 5,
     "metadata": {},
     "output_type": "execute_result"
    }
   ],
   "source": [
    "jatim.layers"
   ]
  },
  {
   "cell_type": "code",
   "execution_count": 6,
   "metadata": {
    "scrolled": true
   },
   "outputs": [
    {
     "name": "stdout",
     "output_type": "stream",
     "text": [
      "jatim2_test\n"
     ]
    }
   ],
   "source": [
    "for lyr in jatim.layers:\n",
    "    print(lyr.properties.name)"
   ]
  },
  {
   "cell_type": "markdown",
   "metadata": {},
   "source": [
    "## Layer Capabilities"
   ]
  },
  {
   "cell_type": "markdown",
   "metadata": {},
   "source": [
    "What operations can be done for the layer?\n",
    "\n",
    "By default, a layer only has Query capability. If it doesn't have update?editing? capability, then it can't be edited. You can turn on the edit capability at the layer's settings. Of course, you need the permission to do it from the owner."
   ]
  },
  {
   "cell_type": "code",
   "execution_count": 7,
   "metadata": {
    "scrolled": true
   },
   "outputs": [
    {
     "data": {
      "text/plain": [
       "'Create,Delete,Query,Update,Editing'"
      ]
     },
     "execution_count": 7,
     "metadata": {},
     "output_type": "execute_result"
    }
   ],
   "source": [
    "jatim_layer = jatim.layers[0]\n",
    "jatim_layer.properties.capabilities"
   ]
  },
  {
   "cell_type": "markdown",
   "metadata": {},
   "source": [
    "## Layer Fields"
   ]
  },
  {
   "cell_type": "markdown",
   "metadata": {},
   "source": [
    "What fields does it have?"
   ]
  },
  {
   "cell_type": "code",
   "execution_count": 8,
   "metadata": {},
   "outputs": [
    {
     "data": {
      "text/plain": [
       "[{\n",
       "   \"name\": \"FID\",\n",
       "   \"type\": \"esriFieldTypeOID\",\n",
       "   \"actualType\": \"int\",\n",
       "   \"alias\": \"FID\",\n",
       "   \"sqlType\": \"sqlTypeInteger\",\n",
       "   \"nullable\": false,\n",
       "   \"editable\": false,\n",
       "   \"domain\": null,\n",
       "   \"defaultValue\": null\n",
       " },\n",
       " {\n",
       "   \"name\": \"ID\",\n",
       "   \"type\": \"esriFieldTypeDouble\",\n",
       "   \"actualType\": \"float\",\n",
       "   \"alias\": \"ID\",\n",
       "   \"sqlType\": \"sqlTypeFloat\",\n",
       "   \"nullable\": true,\n",
       "   \"editable\": true,\n",
       "   \"domain\": null,\n",
       "   \"defaultValue\": null\n",
       " },\n",
       " {\n",
       "   \"name\": \"Kabupaten_\",\n",
       "   \"type\": \"esriFieldTypeString\",\n",
       "   \"actualType\": \"nvarchar\",\n",
       "   \"alias\": \"Kabupaten_\",\n",
       "   \"sqlType\": \"sqlTypeNVarchar\",\n",
       "   \"length\": 55,\n",
       "   \"nullable\": true,\n",
       "   \"editable\": true,\n",
       "   \"domain\": null,\n",
       "   \"defaultValue\": null\n",
       " },\n",
       " {\n",
       "   \"name\": \"Provinsi\",\n",
       "   \"type\": \"esriFieldTypeString\",\n",
       "   \"actualType\": \"nvarchar\",\n",
       "   \"alias\": \"Provinsi\",\n",
       "   \"sqlType\": \"sqlTypeNVarchar\",\n",
       "   \"length\": 50,\n",
       "   \"nullable\": true,\n",
       "   \"editable\": true,\n",
       "   \"domain\": null,\n",
       "   \"defaultValue\": null\n",
       " },\n",
       " {\n",
       "   \"name\": \"ODP\",\n",
       "   \"type\": \"esriFieldTypeInteger\",\n",
       "   \"actualType\": \"int\",\n",
       "   \"alias\": \"ODP\",\n",
       "   \"sqlType\": \"sqlTypeInteger\",\n",
       "   \"nullable\": true,\n",
       "   \"editable\": true,\n",
       "   \"domain\": null,\n",
       "   \"defaultValue\": null\n",
       " },\n",
       " {\n",
       "   \"name\": \"PDP\",\n",
       "   \"type\": \"esriFieldTypeInteger\",\n",
       "   \"actualType\": \"int\",\n",
       "   \"alias\": \"PDP\",\n",
       "   \"sqlType\": \"sqlTypeInteger\",\n",
       "   \"nullable\": true,\n",
       "   \"editable\": true,\n",
       "   \"domain\": null,\n",
       "   \"defaultValue\": null\n",
       " },\n",
       " {\n",
       "   \"name\": \"OTG\",\n",
       "   \"type\": \"esriFieldTypeInteger\",\n",
       "   \"actualType\": \"int\",\n",
       "   \"alias\": \"OTG\",\n",
       "   \"sqlType\": \"sqlTypeInteger\",\n",
       "   \"nullable\": true,\n",
       "   \"editable\": true,\n",
       "   \"domain\": null,\n",
       "   \"defaultValue\": null\n",
       " },\n",
       " {\n",
       "   \"name\": \"Positif\",\n",
       "   \"type\": \"esriFieldTypeInteger\",\n",
       "   \"actualType\": \"int\",\n",
       "   \"alias\": \"Positif\",\n",
       "   \"sqlType\": \"sqlTypeInteger\",\n",
       "   \"nullable\": true,\n",
       "   \"editable\": true,\n",
       "   \"domain\": null,\n",
       "   \"defaultValue\": null\n",
       " },\n",
       " {\n",
       "   \"name\": \"Sembuh\",\n",
       "   \"type\": \"esriFieldTypeInteger\",\n",
       "   \"actualType\": \"int\",\n",
       "   \"alias\": \"Sembuh\",\n",
       "   \"sqlType\": \"sqlTypeInteger\",\n",
       "   \"nullable\": true,\n",
       "   \"editable\": true,\n",
       "   \"domain\": null,\n",
       "   \"defaultValue\": null\n",
       " },\n",
       " {\n",
       "   \"name\": \"Meninggal\",\n",
       "   \"type\": \"esriFieldTypeInteger\",\n",
       "   \"actualType\": \"int\",\n",
       "   \"alias\": \"Meninggal\",\n",
       "   \"sqlType\": \"sqlTypeInteger\",\n",
       "   \"nullable\": true,\n",
       "   \"editable\": true,\n",
       "   \"domain\": null,\n",
       "   \"defaultValue\": null\n",
       " },\n",
       " {\n",
       "   \"name\": \"Shape__Area\",\n",
       "   \"type\": \"esriFieldTypeDouble\",\n",
       "   \"actualType\": \"float\",\n",
       "   \"alias\": \"Shape__Area\",\n",
       "   \"sqlType\": \"sqlTypeFloat\",\n",
       "   \"nullable\": true,\n",
       "   \"editable\": false,\n",
       "   \"domain\": null,\n",
       "   \"defaultValue\": null\n",
       " },\n",
       " {\n",
       "   \"name\": \"Shape__Length\",\n",
       "   \"type\": \"esriFieldTypeDouble\",\n",
       "   \"actualType\": \"float\",\n",
       "   \"alias\": \"Shape__Length\",\n",
       "   \"sqlType\": \"sqlTypeFloat\",\n",
       "   \"nullable\": true,\n",
       "   \"editable\": false,\n",
       "   \"domain\": null,\n",
       "   \"defaultValue\": null\n",
       " },\n",
       " {\n",
       "   \"name\": \"Tanggal\",\n",
       "   \"type\": \"esriFieldTypeDate\",\n",
       "   \"alias\": \"Tanggal Update Data Covid 19\",\n",
       "   \"sqlType\": \"sqlTypeOther\",\n",
       "   \"length\": 0,\n",
       "   \"nullable\": true,\n",
       "   \"editable\": true,\n",
       "   \"domain\": null,\n",
       "   \"defaultValue\": 1593158400000\n",
       " }]"
      ]
     },
     "execution_count": 8,
     "metadata": {},
     "output_type": "execute_result"
    }
   ],
   "source": [
    "jatim_layer.properties.fields"
   ]
  },
  {
   "cell_type": "markdown",
   "metadata": {},
   "source": [
    "## Add Layer to Map"
   ]
  },
  {
   "cell_type": "markdown",
   "metadata": {},
   "source": [
    "Show jatim in map"
   ]
  },
  {
   "cell_type": "code",
   "execution_count": 9,
   "metadata": {
    "scrolled": false
   },
   "outputs": [
    {
     "data": {
      "application/vnd.jupyter.widget-view+json": {
       "model_id": "0c86de1bc1194baebad0c4b1ed116d25",
       "version_major": 2,
       "version_minor": 0
      },
      "text/plain": [
       "MapView(layout=Layout(height='400px', width='100%'))"
      ]
     },
     "metadata": {},
     "output_type": "display_data"
    },
    {
     "data": {
      "text/html": [
       "<div class=\"map-static-img-preview-60782216-6815-41ef-8172-e9f94352cfd2\"><img src=\"\"></img></div>"
      ],
      "text/plain": [
       "<IPython.core.display.HTML object>"
      ]
     },
     "metadata": {},
     "output_type": "display_data"
    }
   ],
   "source": [
    "map = gis.map(\"Jawa Timur\", zoomlevel=8)\n",
    "map.add_layer(jatim)\n",
    "map"
   ]
  },
  {
   "cell_type": "markdown",
   "metadata": {},
   "source": [
    "## Querying Layer Features"
   ]
  },
  {
   "cell_type": "markdown",
   "metadata": {},
   "source": [
    "You can query the layer"
   ]
  },
  {
   "cell_type": "code",
   "execution_count": 10,
   "metadata": {},
   "outputs": [
    {
     "data": {
      "text/plain": [
       "0"
      ]
     },
     "execution_count": 10,
     "metadata": {},
     "output_type": "execute_result"
    }
   ],
   "source": [
    "query_result1 = jatim_layer.query(where='ODP<12', out_fields='FID,ID,Provinsi,Kabupaten_,ODP')\n",
    "len(query_result1.features)"
   ]
  },
  {
   "cell_type": "code",
   "execution_count": 11,
   "metadata": {},
   "outputs": [
    {
     "data": {
      "text/plain": [
       "<FeatureSet> 0 features"
      ]
     },
     "execution_count": 11,
     "metadata": {},
     "output_type": "execute_result"
    }
   ],
   "source": [
    "query_result1"
   ]
  },
  {
   "cell_type": "code",
   "execution_count": 12,
   "metadata": {},
   "outputs": [
    {
     "data": {
      "text/html": [
       "<div>\n",
       "<style scoped>\n",
       "    .dataframe tbody tr th:only-of-type {\n",
       "        vertical-align: middle;\n",
       "    }\n",
       "\n",
       "    .dataframe tbody tr th {\n",
       "        vertical-align: top;\n",
       "    }\n",
       "\n",
       "    .dataframe thead th {\n",
       "        text-align: right;\n",
       "    }\n",
       "</style>\n",
       "<table border=\"1\" class=\"dataframe\">\n",
       "  <thead>\n",
       "    <tr style=\"text-align: right;\">\n",
       "      <th></th>\n",
       "    </tr>\n",
       "  </thead>\n",
       "  <tbody>\n",
       "  </tbody>\n",
       "</table>\n",
       "</div>"
      ],
      "text/plain": [
       "Empty DataFrame\n",
       "Columns: []\n",
       "Index: []"
      ]
     },
     "execution_count": 12,
     "metadata": {},
     "output_type": "execute_result"
    }
   ],
   "source": [
    "query_result1.sdf"
   ]
  },
  {
   "cell_type": "markdown",
   "metadata": {},
   "source": [
    "To access the feature data, you must do a query; it can be empty."
   ]
  },
  {
   "cell_type": "code",
   "execution_count": 13,
   "metadata": {
    "scrolled": true
   },
   "outputs": [
    {
     "data": {
      "text/html": [
       "<div>\n",
       "<style scoped>\n",
       "    .dataframe tbody tr th:only-of-type {\n",
       "        vertical-align: middle;\n",
       "    }\n",
       "\n",
       "    .dataframe tbody tr th {\n",
       "        vertical-align: top;\n",
       "    }\n",
       "\n",
       "    .dataframe thead th {\n",
       "        text-align: right;\n",
       "    }\n",
       "</style>\n",
       "<table border=\"1\" class=\"dataframe\">\n",
       "  <thead>\n",
       "    <tr style=\"text-align: right;\">\n",
       "      <th></th>\n",
       "      <th>FID</th>\n",
       "      <th>ID</th>\n",
       "      <th>Kabupaten_</th>\n",
       "      <th>Provinsi</th>\n",
       "      <th>ODP</th>\n",
       "      <th>PDP</th>\n",
       "      <th>OTG</th>\n",
       "      <th>Positif</th>\n",
       "      <th>Sembuh</th>\n",
       "      <th>Meninggal</th>\n",
       "      <th>Shape__Area</th>\n",
       "      <th>Shape__Length</th>\n",
       "      <th>Tanggal</th>\n",
       "      <th>SHAPE</th>\n",
       "    </tr>\n",
       "  </thead>\n",
       "  <tbody>\n",
       "    <tr>\n",
       "      <th>0</th>\n",
       "      <td>1</td>\n",
       "      <td>1</td>\n",
       "      <td>BANGKALAN</td>\n",
       "      <td>Jawa Timur</td>\n",
       "      <td>1058</td>\n",
       "      <td>78</td>\n",
       "      <td>1132</td>\n",
       "      <td>172</td>\n",
       "      <td>50</td>\n",
       "      <td>26</td>\n",
       "      <td>1.335694e+09</td>\n",
       "      <td>181458.097516</td>\n",
       "      <td>2020-06-26 08:00:00</td>\n",
       "      <td>{\"rings\": [[[12591669.5395945, -789994.2297997...</td>\n",
       "    </tr>\n",
       "    <tr>\n",
       "      <th>1</th>\n",
       "      <td>2</td>\n",
       "      <td>2</td>\n",
       "      <td>BANYUWANGI</td>\n",
       "      <td>Jawa Timur</td>\n",
       "      <td>899</td>\n",
       "      <td>54</td>\n",
       "      <td>509</td>\n",
       "      <td>26</td>\n",
       "      <td>7</td>\n",
       "      <td>1</td>\n",
       "      <td>3.643262e+09</td>\n",
       "      <td>429983.627406</td>\n",
       "      <td>2020-06-26 08:00:00</td>\n",
       "      <td>{\"rings\": [[[12737080.6244433, -885720.3503675...</td>\n",
       "    </tr>\n",
       "    <tr>\n",
       "      <th>2</th>\n",
       "      <td>3</td>\n",
       "      <td>3</td>\n",
       "      <td>BLITAR</td>\n",
       "      <td>Jawa Timur</td>\n",
       "      <td>993</td>\n",
       "      <td>64</td>\n",
       "      <td>380</td>\n",
       "      <td>22</td>\n",
       "      <td>9</td>\n",
       "      <td>5</td>\n",
       "      <td>1.782871e+09</td>\n",
       "      <td>261216.926244</td>\n",
       "      <td>2020-06-26 08:00:00</td>\n",
       "      <td>{\"rings\": [[[12506699.594911, -932213.66706938...</td>\n",
       "    </tr>\n",
       "    <tr>\n",
       "      <th>3</th>\n",
       "      <td>4</td>\n",
       "      <td>4</td>\n",
       "      <td>BOJONEGORO</td>\n",
       "      <td>Jawa Timur</td>\n",
       "      <td>282</td>\n",
       "      <td>29</td>\n",
       "      <td>357</td>\n",
       "      <td>116</td>\n",
       "      <td>25</td>\n",
       "      <td>13</td>\n",
       "      <td>2.398399e+09</td>\n",
       "      <td>292768.403958</td>\n",
       "      <td>2020-06-26 08:00:00</td>\n",
       "      <td>{\"rings\": [[[12477917.7179274, -810460.9532501...</td>\n",
       "    </tr>\n",
       "    <tr>\n",
       "      <th>4</th>\n",
       "      <td>5</td>\n",
       "      <td>5</td>\n",
       "      <td>BONDOWOSO</td>\n",
       "      <td>Jawa Timur</td>\n",
       "      <td>1171</td>\n",
       "      <td>11</td>\n",
       "      <td>279</td>\n",
       "      <td>23</td>\n",
       "      <td>17</td>\n",
       "      <td>1</td>\n",
       "      <td>1.592650e+09</td>\n",
       "      <td>215099.794452</td>\n",
       "      <td>2020-06-26 08:00:00</td>\n",
       "      <td>{\"rings\": [[[12697455.8950979, -907009.4524894...</td>\n",
       "    </tr>\n",
       "    <tr>\n",
       "      <th>...</th>\n",
       "      <td>...</td>\n",
       "      <td>...</td>\n",
       "      <td>...</td>\n",
       "      <td>...</td>\n",
       "      <td>...</td>\n",
       "      <td>...</td>\n",
       "      <td>...</td>\n",
       "      <td>...</td>\n",
       "      <td>...</td>\n",
       "      <td>...</td>\n",
       "      <td>...</td>\n",
       "      <td>...</td>\n",
       "      <td>...</td>\n",
       "      <td>...</td>\n",
       "    </tr>\n",
       "    <tr>\n",
       "      <th>71</th>\n",
       "      <td>73</td>\n",
       "      <td>34</td>\n",
       "      <td>SITUBONDO</td>\n",
       "      <td>Jawa Timur</td>\n",
       "      <td>491</td>\n",
       "      <td>77</td>\n",
       "      <td>716</td>\n",
       "      <td>107</td>\n",
       "      <td>28</td>\n",
       "      <td>19</td>\n",
       "      <td>1.659800e+09</td>\n",
       "      <td>321261.891828</td>\n",
       "      <td>2020-06-27 08:00:00</td>\n",
       "      <td>{\"rings\": [[[12649229.1747406, -888209.6202223...</td>\n",
       "    </tr>\n",
       "    <tr>\n",
       "      <th>72</th>\n",
       "      <td>74</td>\n",
       "      <td>35</td>\n",
       "      <td>SUMENEP</td>\n",
       "      <td>Jawa Timur</td>\n",
       "      <td>377</td>\n",
       "      <td>24</td>\n",
       "      <td>74</td>\n",
       "      <td>62</td>\n",
       "      <td>20</td>\n",
       "      <td>12</td>\n",
       "      <td>2.171832e+09</td>\n",
       "      <td>999117.471812</td>\n",
       "      <td>2020-06-27 08:00:00</td>\n",
       "      <td>{\"rings\": [[[12645070.167245, -787333.85614714...</td>\n",
       "    </tr>\n",
       "    <tr>\n",
       "      <th>73</th>\n",
       "      <td>75</td>\n",
       "      <td>36</td>\n",
       "      <td>TRENGGALEK</td>\n",
       "      <td>Jawa Timur</td>\n",
       "      <td>927</td>\n",
       "      <td>58</td>\n",
       "      <td>284</td>\n",
       "      <td>32</td>\n",
       "      <td>25</td>\n",
       "      <td>10</td>\n",
       "      <td>1.328201e+09</td>\n",
       "      <td>301206.872650</td>\n",
       "      <td>2020-06-27 08:00:00</td>\n",
       "      <td>{\"rings\": [[[12442145.9787975, -926087.2150686...</td>\n",
       "    </tr>\n",
       "    <tr>\n",
       "      <th>74</th>\n",
       "      <td>76</td>\n",
       "      <td>37</td>\n",
       "      <td>TUBAN</td>\n",
       "      <td>Jawa Timur</td>\n",
       "      <td>664</td>\n",
       "      <td>106</td>\n",
       "      <td>956</td>\n",
       "      <td>98</td>\n",
       "      <td>45</td>\n",
       "      <td>17</td>\n",
       "      <td>2.019437e+09</td>\n",
       "      <td>240044.999022</td>\n",
       "      <td>2020-06-27 08:00:00</td>\n",
       "      <td>{\"rings\": [[[12490542.5726978, -777177.9678322...</td>\n",
       "    </tr>\n",
       "    <tr>\n",
       "      <th>75</th>\n",
       "      <td>77</td>\n",
       "      <td>38</td>\n",
       "      <td>TULUNG AGUNG</td>\n",
       "      <td>Jawa Timur</td>\n",
       "      <td>1516</td>\n",
       "      <td>660</td>\n",
       "      <td>961</td>\n",
       "      <td>234</td>\n",
       "      <td>134</td>\n",
       "      <td>12</td>\n",
       "      <td>1.144735e+09</td>\n",
       "      <td>229476.188326</td>\n",
       "      <td>2020-06-27 08:00:00</td>\n",
       "      <td>{\"rings\": [[[12470896.4636846, -928975.6181804...</td>\n",
       "    </tr>\n",
       "  </tbody>\n",
       "</table>\n",
       "<p>76 rows × 14 columns</p>\n",
       "</div>"
      ],
      "text/plain": [
       "    FID  ID    Kabupaten_    Provinsi   ODP  PDP   OTG  Positif  Sembuh  \\\n",
       "0     1   1     BANGKALAN  Jawa Timur  1058   78  1132      172      50   \n",
       "1     2   2    BANYUWANGI  Jawa Timur   899   54   509       26       7   \n",
       "2     3   3        BLITAR  Jawa Timur   993   64   380       22       9   \n",
       "3     4   4    BOJONEGORO  Jawa Timur   282   29   357      116      25   \n",
       "4     5   5     BONDOWOSO  Jawa Timur  1171   11   279       23      17   \n",
       "..  ...  ..           ...         ...   ...  ...   ...      ...     ...   \n",
       "71   73  34     SITUBONDO  Jawa Timur   491   77   716      107      28   \n",
       "72   74  35       SUMENEP  Jawa Timur   377   24    74       62      20   \n",
       "73   75  36    TRENGGALEK  Jawa Timur   927   58   284       32      25   \n",
       "74   76  37         TUBAN  Jawa Timur   664  106   956       98      45   \n",
       "75   77  38  TULUNG AGUNG  Jawa Timur  1516  660   961      234     134   \n",
       "\n",
       "    Meninggal   Shape__Area  Shape__Length             Tanggal  \\\n",
       "0          26  1.335694e+09  181458.097516 2020-06-26 08:00:00   \n",
       "1           1  3.643262e+09  429983.627406 2020-06-26 08:00:00   \n",
       "2           5  1.782871e+09  261216.926244 2020-06-26 08:00:00   \n",
       "3          13  2.398399e+09  292768.403958 2020-06-26 08:00:00   \n",
       "4           1  1.592650e+09  215099.794452 2020-06-26 08:00:00   \n",
       "..        ...           ...            ...                 ...   \n",
       "71         19  1.659800e+09  321261.891828 2020-06-27 08:00:00   \n",
       "72         12  2.171832e+09  999117.471812 2020-06-27 08:00:00   \n",
       "73         10  1.328201e+09  301206.872650 2020-06-27 08:00:00   \n",
       "74         17  2.019437e+09  240044.999022 2020-06-27 08:00:00   \n",
       "75         12  1.144735e+09  229476.188326 2020-06-27 08:00:00   \n",
       "\n",
       "                                                SHAPE  \n",
       "0   {\"rings\": [[[12591669.5395945, -789994.2297997...  \n",
       "1   {\"rings\": [[[12737080.6244433, -885720.3503675...  \n",
       "2   {\"rings\": [[[12506699.594911, -932213.66706938...  \n",
       "3   {\"rings\": [[[12477917.7179274, -810460.9532501...  \n",
       "4   {\"rings\": [[[12697455.8950979, -907009.4524894...  \n",
       "..                                                ...  \n",
       "71  {\"rings\": [[[12649229.1747406, -888209.6202223...  \n",
       "72  {\"rings\": [[[12645070.167245, -787333.85614714...  \n",
       "73  {\"rings\": [[[12442145.9787975, -926087.2150686...  \n",
       "74  {\"rings\": [[[12490542.5726978, -777177.9678322...  \n",
       "75  {\"rings\": [[[12470896.4636846, -928975.6181804...  \n",
       "\n",
       "[76 rows x 14 columns]"
      ]
     },
     "execution_count": 13,
     "metadata": {},
     "output_type": "execute_result"
    }
   ],
   "source": [
    "jatim_fset = jatim_layer.query()\n",
    "jatim_fset.sdf"
   ]
  },
  {
   "cell_type": "markdown",
   "metadata": {},
   "source": [
    "## Feature and Its Attributes"
   ]
  },
  {
   "cell_type": "markdown",
   "metadata": {},
   "source": [
    "Get surabaya feature. You can also query but eh I love list comprehension"
   ]
  },
  {
   "cell_type": "code",
   "execution_count": 14,
   "metadata": {},
   "outputs": [
    {
     "data": {
      "text/plain": [
       "{'FID': 17,\n",
       " 'ID': 17,\n",
       " 'Kabupaten_': 'Kota SURABAYA',\n",
       " 'Provinsi': 'Jawa Timur',\n",
       " 'ODP': 4350,\n",
       " 'PDP': 4673,\n",
       " 'OTG': 5396,\n",
       " 'Positif': 5157,\n",
       " 'Sembuh': 1968,\n",
       " 'Meninggal': 382,\n",
       " 'Shape__Area': 334241941.147461,\n",
       " 'Shape__Length': 106052.476058383,\n",
       " 'Tanggal': 1593158400000,\n",
       " 'SHAPE': {'rings': [[[12546281.2436134, -819061.286210294],\n",
       "    [12546187.8465606, -819153.546452475],\n",
       "    [12545831.9581486, -819434.705541132],\n",
       "    [12545400.4838023, -819826.535080167],\n",
       "    [12544954.6492416, -820082.892708373],\n",
       "    [12544508.814681, -820326.343882396],\n",
       "    [12544236.9724845, -820440.156872143],\n",
       "    [12544208.9199728, -820460.13590504],\n",
       "    [12544156.2658537, -820513.114053505],\n",
       "    [12544045.8369188, -820566.092258269],\n",
       "    [12543966.0208439, -820627.039711785],\n",
       "    [12543929.5080509, -820645.671913183],\n",
       "    [12543870.9539988, -820678.671130343],\n",
       "    [12543802.1585534, -820711.558127002],\n",
       "    [12543690.0598262, -820749.159327248],\n",
       "    [12543647.5357807, -820752.077630543],\n",
       "    [12543561.8197728, -820784.403463085],\n",
       "    [12543463.3020235, -820821.21902013],\n",
       "    [12543169.4185678, -820882.391271093],\n",
       "    [12542925.6288829, -820904.278608485],\n",
       "    [12542688.7410065, -820919.655871788],\n",
       "    [12542527.3277449, -820927.400626637],\n",
       "    [12542343.0939876, -820936.2678112],\n",
       "    [12542112.8852807, -820983.858803417],\n",
       "    [12541876.7766407, -821076.571574458],\n",
       "    [12541501.4073177, -821325.864275823],\n",
       "    [12541241.4763067, -821606.025414982],\n",
       "    [12541097.9854831, -821749.249426802],\n",
       "    [12541045.3313639, -821801.779967023],\n",
       "    [12540828.7036349, -821946.014748239],\n",
       "    [12540317.4132136, -822073.974359323],\n",
       "    [12540285.2418808, -822074.76007725],\n",
       "    [12540475.4868906, -821754.524927269],\n",
       "    [12540565.4330391, -821440.240768443],\n",
       "    [12540628.3285514, -821148.743984181],\n",
       "    [12540714.0445593, -820811.902885746],\n",
       "    [12540776.0495157, -820357.322540264],\n",
       "    [12540805.7718198, -819953.142360623],\n",
       "    [12540781.1702123, -819619.452055928],\n",
       "    [12540695.4542044, -819391.605602028],\n",
       "    [12540567.1028315, -819216.736960014],\n",
       "    [12540364.1673998, -819052.3071204],\n",
       "    [12540168.8016934, -818925.477648088],\n",
       "    [12539911.5423502, -818761.385481247],\n",
       "    [12539653.2811316, -818476.975300406],\n",
       "    [12539487.7490488, -817971.012017991],\n",
       "    [12539456.2456329, -817614.887870733],\n",
       "    [12539449.4551439, -817265.612568835],\n",
       "    [12539469.0473743, -816844.39787785],\n",
       "    [12539397.6915807, -816631.49108089],\n",
       "    [12539377.3201139, -816518.696860952],\n",
       "    [12539321.2150905, -816358.428495696],\n",
       "    [12539226.1482454, -816243.614708881],\n",
       "    [12539088.5573548, -816169.092509057],\n",
       "    [12538936.4949304, -816137.443054104],\n",
       "    [12538327.5773157, -816123.526278821],\n",
       "    [12538015.8827415, -816135.422876808],\n",
       "    [12537716.8785892, -816154.839028644],\n",
       "    [12537310.8964063, -816184.917244028],\n",
       "    [12537032.3750403, -816234.299427843],\n",
       "    [12536775.8949336, -816263.479832059],\n",
       "    [12536678.1564206, -816191.314478734],\n",
       "    [12536612.8118795, -816086.265254344],\n",
       "    [12536561.8275528, -815983.685348128],\n",
       "    [12536526.2053157, -815815.78696117],\n",
       "    [12536562.7181087, -815291.10812532],\n",
       "    [12536590.7706204, -814944.654755666],\n",
       "    [12536569.5085976, -814666.214373744],\n",
       "    [12536563.6086646, -814495.62691391],\n",
       "    [12536522.7544115, -814377.899458874],\n",
       "    [12536473.5511966, -814102.155679999],\n",
       "    [12536330.8396094, -813553.478319242],\n",
       "    [12536267.1648606, -813293.001758592],\n",
       "    [12536255.2536751, -813019.508433143],\n",
       "    [12536365.68261, -812700.116796823],\n",
       "    [12536627.2834133, -812194.211775088],\n",
       "    [12536760.6441633, -811972.571313818],\n",
       "    [12536893.1143574, -811740.944046064],\n",
       "    [12536989.0717584, -811479.466869208],\n",
       "    [12537051.8559512, -811192.965751751],\n",
       "    [12537067.9972774, -810916.902760372],\n",
       "    [12537019.6846184, -810701.440012145],\n",
       "    [12536918.6065207, -810531.427086904],\n",
       "    [12536888.8842167, -810486.427061977],\n",
       "    [12536711.3296289, -810412.250051121],\n",
       "    [12536580.5292272, -810325.167950575],\n",
       "    [12536360.5619134, -810211.041249889],\n",
       "    [12536140.5945996, -810097.027025825],\n",
       "    [12536121.1136887, -810067.064669115],\n",
       "    [12535932.5384713, -809899.9715527],\n",
       "    [12535834.9112779, -809842.964759694],\n",
       "    [12535619.9533412, -809703.702372577],\n",
       "    [12535402.5463756, -809584.527290578],\n",
       "    [12535119.794869, -809395.665660137],\n",
       "    [12534929.5498593, -809228.686981246],\n",
       "    [12534788.5080644, -809013.792517493],\n",
       "    [12534699.3411523, -808750.870664137],\n",
       "    [12534612.7345885, -808407.604283817],\n",
       "    [12534509.0961425, -808162.41543819],\n",
       "    [12534416.4783262, -808077.581496384],\n",
       "    [12534286.5684804, -807998.133965538],\n",
       "    [12534151.5379381, -807926.204882034],\n",
       "    [12533712.4938664, -807509.893473201],\n",
       "    [12533604.6252798, -807367.495558504],\n",
       "    [12533444.1025741, -807210.39824468],\n",
       "    [12533148.5493261, -806988.891859784],\n",
       "    [12533003.2773906, -806864.33702304],\n",
       "    [12532927.6914563, -806731.81550127],\n",
       "    [12532884.3881744, -806553.961166788],\n",
       "    [12532870.8071965, -806423.572454806],\n",
       "    [12532849.5451738, -806195.336910488],\n",
       "    [12532866.5770559, -806167.621061315],\n",
       "    [12532916.6708267, -806112.189408396],\n",
       "    [12533005.8377389, -806071.457280988],\n",
       "    [12533180.8319784, -806075.496829354],\n",
       "    [12533397.348388, -806119.258623921],\n",
       "    [12533524.8092049, -806133.509267736],\n",
       "    [12533658.9491913, -806100.070755502],\n",
       "    [12533720.9541477, -805946.68027878],\n",
       "    [12533697.1317767, -805716.090493062],\n",
       "    [12533665.7396803, -805515.461400354],\n",
       "    [12533648.7077982, -805207.001327179],\n",
       "    [12533635.1268203, -804961.266923881],\n",
       "    [12533630.8966797, -804747.961448868],\n",
       "    [12533638.5777245, -804692.755759002],\n",
       "    [12533733.6445697, -804401.131575198],\n",
       "    [12533733.6445697, -804368.479644909],\n",
       "    [12533718.3937994, -804248.195051696],\n",
       "    [12533702.2524733, -804127.910743011],\n",
       "    [12533699.692125, -804057.670224174],\n",
       "    [12533709.0429622, -803964.764383408],\n",
       "    [12533731.0842214, -803909.447339006],\n",
       "    [12533760.9178449, -803876.68351957],\n",
       "    [12533960.4023724, -803882.966990156],\n",
       "    [12534154.9888423, -803901.817406566],\n",
       "    [12534481.9341868, -803980.136473365],\n",
       "    [12534741.7538783, -804086.506974962],\n",
       "    [12535332.081138, -804391.481861659],\n",
       "    [12535514.6451029, -804498.18984231],\n",
       "    [12535724.482343, -804589.75018092],\n",
       "    [12535859.5128853, -804611.518226864],\n",
       "    [12535891.7955377, -804623.86093747],\n",
       "    [12535971.6116126, -804633.398488629],\n",
       "    [12536070.9085984, -804632.837456157],\n",
       "    [12536369.9127506, -804550.814575596],\n",
       "    [12536901.5746387, -804299.136439831],\n",
       "    [12537269.3742362, -804083.701842844],\n",
       "    [12537749.1612416, -803802.291775018],\n",
       "    [12538450.6966725, -803577.321927291],\n",
       "    [12538990.8188419, -803476.113871267],\n",
       "    [12539187.8543406, -803427.192976204],\n",
       "    [12539434.2043737, -803403.181361423],\n",
       "    [12539569.234916, -803402.395934965],\n",
       "    [12539735.6575548, -803386.350797071],\n",
       "    [12539982.0075879, -803349.660186065],\n",
       "    [12540283.460769, -803277.625485422],\n",
       "    [12540636.7888327, -803175.183789172],\n",
       "    [12541169.3412767, -803022.811965059],\n",
       "    [12541261.8477735, -803513.141185491],\n",
       "    [12541308.6019597, -803931.776118452],\n",
       "    [12541329.8639824, -804261.210908126],\n",
       "    [12541343.4449603, -804460.937398801],\n",
       "    [12541306.0416114, -804583.915448538],\n",
       "    [12541261.0685371, -804635.867031572],\n",
       "    [12541165.111136, -804714.411642391],\n",
       "    [12541101.3250678, -804772.534732548],\n",
       "    [12541114.1268093, -804817.080852437],\n",
       "    [12541178.6921139, -804862.412460373],\n",
       "    [12541416.4705462, -804970.692331126],\n",
       "    [12541635.5473041, -805266.695891381],\n",
       "    [12541803.7510547, -805582.337676491],\n",
       "    [12541887.7972703, -805691.404544021],\n",
       "    [12542029.6183015, -805774.775774663],\n",
       "    [12542106.0947917, -805805.857681697],\n",
       "    [12542209.7332376, -805908.753516971],\n",
       "    [12542242.01589, -806038.467648049],\n",
       "    [12542172.3298887, -806121.951658666],\n",
       "    [12542012.6977389, -806193.765971263],\n",
       "    [12541903.9385964, -806272.42520219],\n",
       "    [12541891.2481745, -806343.454255893],\n",
       "    [12541968.5039011, -806362.305585427],\n",
       "    [12542115.4456289, -806329.091342856],\n",
       "    [12542173.2204447, -806296.325962712],\n",
       "    [12542326.0621055, -806211.38293535],\n",
       "    [12542416.1195736, -806191.633982393],\n",
       "    [12542589.3327012, -806288.134620983],\n",
       "    [12542750.7459629, -806442.536024613],\n",
       "    [12542891.6764382, -806499.538987202],\n",
       "    [12543071.7913743, -806504.700675954],\n",
       "    [12543200.0314277, -806510.086786517],\n",
       "    [12543334.1714141, -806535.783030203],\n",
       "    [12543539.6671941, -806605.690344212],\n",
       "    [12543790.2473679, -806688.614233317],\n",
       "    [12544039.9369858, -806718.799011466],\n",
       "    [12544149.4753647, -806706.119158232],\n",
       "    [12544289.6266036, -806627.234832805],\n",
       "    [12544366.1030938, -806588.297664785],\n",
       "    [12544423.8779095, -806568.660775829],\n",
       "    [12544693.0484383, -806521.756694699],\n",
       "    [12544878.1727514, -806469.017707925],\n",
       "    [12545064.1876206, -806461.948443653],\n",
       "    [12545244.3025567, -806447.922128573],\n",
       "    [12545865.1313568, -806335.150696298],\n",
       "    [12545979.7904323, -806295.989332204],\n",
       "    [12546133.5226491, -806243.475000303],\n",
       "    [12546210.7783757, -806243.026160095],\n",
       "    [12546364.5105925, -806293.969549203],\n",
       "    [12546519.0220457, -806435.242343077],\n",
       "    [12546615.8700027, -806479.341079742],\n",
       "    [12546789.0831304, -806581.901648689],\n",
       "    [12546860.438924, -806671.782580443],\n",
       "    [12546931.7947176, -806832.693410571],\n",
       "    [12546996.3600223, -807006.733523626],\n",
       "    [12547118.7001426, -807148.120515817],\n",
       "    [12547336.8863446, -807185.487143949],\n",
       "    [12547459.226465, -807211.29594223],\n",
       "    [12547708.9160828, -807293.098698446],\n",
       "    [12547786.1718094, -807312.062593575],\n",
       "    [12547894.9309519, -807305.442061334],\n",
       "    [12547946.6945152, -807272.676050091],\n",
       "    [12547958.6057007, -807214.774520397],\n",
       "    [12547926.3230483, -807150.02812079],\n",
       "    [12547753.1099207, -807008.977758517],\n",
       "    [12547483.048836, -806900.805749855],\n",
       "    [12547270.6512476, -806798.46895833],\n",
       "    [12547122.9302833, -806651.13576055],\n",
       "    [12547012.5013484, -806400.232686315],\n",
       "    [12546896.1724805, -806187.81884464],\n",
       "    [12546837.5071089, -806025.900174475],\n",
       "    [12546837.5071089, -805935.683759125],\n",
       "    [12546932.6852735, -805793.178056673],\n",
       "    [12547195.0653133, -805649.775084421],\n",
       "    [12547488.948769, -805454.532252309],\n",
       "    [12547742.8685275, -805021.185614002],\n",
       "    [12547849.9578777, -804710.372202302],\n",
       "    [12547900.830885, -804562.035208077],\n",
       "    [12547887.2499071, -804503.351327601],\n",
       "    [12547874.5594851, -804451.624292188],\n",
       "    [12547880.4594181, -804284.213076348],\n",
       "    [12548013.8201681, -804141.599801107],\n",
       "    [12548167.5523849, -804037.361082654],\n",
       "    [12548301.6923713, -804049.81585909],\n",
       "    [12548463.105633, -804254.927390812],\n",
       "    [12548643.1092496, -804299.58526286],\n",
       "    [12548829.1241187, -804388.901124627],\n",
       "    [12548945.4529866, -804595.136088327],\n",
       "    [12549055.102685, -804761.987294262],\n",
       "    [12549209.6141382, -804806.757818659],\n",
       "    [12549280.0793759, -804780.052588834],\n",
       "    [12549356.5558661, -804786.78499839],\n",
       "    [12549433.0323562, -804714.411642391],\n",
       "    [12549418.5608224, -804405.170990712],\n",
       "    [12549404.9798446, -804146.649044778],\n",
       "    [12549269.0587463, -803966.784073794],\n",
       "    [12548993.8769651, -804000.670002233],\n",
       "    [12548699.2142729, -804053.967451912],\n",
       "    [12548564.1837306, -803964.315563333],\n",
       "    [12548498.72787, -803744.618612014],\n",
       "    [12548741.6269989, -803589.215570152],\n",
       "    [12549074.5835959, -803535.806403246],\n",
       "    [12549292.8811173, -803502.257396393],\n",
       "    [12549465.3150086, -803482.060680523],\n",
       "    [12549638.5281362, -803474.094200358],\n",
       "    [12550374.9065678, -803302.871280122],\n",
       "    [12550644.0770966, -803262.029200731],\n",
       "    [12551053.5101837, -803156.445845125],\n",
       "    [12551277.7076382, -803123.794713589],\n",
       "    [12551393.1459501, -803148.591619132],\n",
       "    [12551445.0208328, -803225.450882715],\n",
       "    [12551458.6018107, -803380.516202726],\n",
       "    [12551401.7175509, -803503.491640402],\n",
       "    [12551292.9584084, -803601.445828443],\n",
       "    [12551222.4931707, -803698.165956269],\n",
       "    [12551185.0898218, -803776.372504957],\n",
       "    [12551165.6089109, -803834.27011342],\n",
       "    [12551185.0898218, -803892.055582911],\n",
       "    [12551249.6551265, -803904.846938428],\n",
       "    [12551351.6237801, -803826.303578113],\n",
       "    [12551658.9768941, -803760.776067432],\n",
       "    [12551991.0429352, -803565.428287212],\n",
       "    [12552259.4342275, -803343.937799578],\n",
       "    [12552438.6586077, -803285.143120757],\n",
       "    [12552540.6272612, -803271.454293067],\n",
       "    [12552938.9283993, -803334.288286563],\n",
       "    [12553286.2452106, -803564.755062386],\n",
       "    [12553401.794842, -803641.27834142],\n",
       "    [12553608.1811779, -803891.718968335],\n",
       "    [12553788.1847945, -804084.487279823],\n",
       "    [12553827.2579358, -804116.690206334],\n",
       "    [12553897.7231735, -804148.780947812],\n",
       "    [12554116.9112509, -804347.497144074],\n",
       "    [12554316.5070978, -804578.641748695],\n",
       "    [12554387.8628914, -804708.128069057],\n",
       "    [12554503.3012034, -804849.508656966],\n",
       "    [12554702.8970504, -805002.559197145],\n",
       "    [12554909.2833863, -805202.288601414],\n",
       "    [12555154.7428635, -805588.509149365],\n",
       "    [12555361.1291994, -805902.806423757],\n",
       "    [12555548.8138609, -806250.768654261],\n",
       "    [12555646.4410544, -806508.852469462],\n",
       "    [12555827.3352269, -806862.878274512],\n",
       "    [12555936.9849253, -806977.895114131],\n",
       "    [12556085.5964455, -807145.539638615],\n",
       "    [12556144.1504977, -807306.451972976],\n",
       "    [12556216.3968472, -807596.185233346],\n",
       "    [12556519.5198206, -808091.608262663],\n",
       "    [12556642.750497, -808265.428272999],\n",
       "    [12556951.8847229, -808702.954622175],\n",
       "    [12557080.9040127, -808909.094919111],\n",
       "    [12557210.925178, -809205.682569396],\n",
       "    [12557321.3541128, -809475.900907079],\n",
       "    [12557463.9543805, -809739.836492538],\n",
       "    [12557561.6928935, -810075.144404005],\n",
       "    [12557627.0374345, -810345.591831803],\n",
       "    [12557814.722096, -810661.040849304],\n",
       "    [12558104.3754111, -810918.137185019],\n",
       "    [12558233.5060204, -811142.690752961],\n",
       "    [12558697.1516995, -811560.154316819],\n",
       "    [12558871.2553831, -811778.426293335],\n",
       "    [12558961.3128512, -811894.576548046],\n",
       "    [12559160.9086982, -812125.755629779],\n",
       "    [12559302.7297295, -812305.649600846],\n",
       "    [12559400.3569229, -812479.596347514],\n",
       "    [12559491.3049469, -812737.824207023],\n",
       "    [12559639.9164671, -812988.534313579],\n",
       "    [12559819.9200837, -813154.964317777],\n",
       "    [12559955.8411819, -813290.196115779],\n",
       "    [12560065.3795609, -813515.770297589],\n",
       "    [12560156.2162654, -813772.993435469],\n",
       "    [12560208.8703845, -813947.169710854],\n",
       "    [12560293.0279196, -814179.031591538],\n",
       "    [12560403.4568544, -814392.489118968],\n",
       "    [12560494.2935589, -814630.413404845],\n",
       "    [12560533.3667002, -814856.44252073],\n",
       "    [12560573.3303974, -815023.552089509],\n",
       "    [12560605.5017302, -815107.499886752],\n",
       "    [12560670.0670349, -815275.620362867],\n",
       "    [12560728.7324065, -815423.427682083],\n",
       "    [12560877.3439267, -815687.39445641],\n",
       "    [12560948.6997203, -815822.96976835],\n",
       "    [12560974.9711202, -815913.091639646],\n",
       "    [12560974.9711202, -815977.063676494],\n",
       "    [12560885.804208, -816009.947579835],\n",
       "    [12560725.2815023, -815952.933863533],\n",
       "    [12560403.4568544, -815754.733141685],\n",
       "    [12560031.4271162, -815647.103519629],\n",
       "    [12559717.1721937, -815660.907931648],\n",
       "    [12559505.6651612, -815662.030241736],\n",
       "    [12559177.8292608, -815483.134330883],\n",
       "    [12558862.7951018, -815187.519776093],\n",
       "    [12558675.8896768, -815053.629626387],\n",
       "    [12558554.4401123, -815034.999508136],\n",
       "    [12558374.4364957, -815055.200841496],\n",
       "    [12558555.3306683, -815234.768606579],\n",
       "    [12558832.1822419, -815504.233689937],\n",
       "    [12559057.2702523, -815716.013386603],\n",
       "    [12559121.8355569, -815799.962342731],\n",
       "    [12559270.4470771, -816050.687735739],\n",
       "    [12559316.3107073, -816192.436800697],\n",
       "    [12559387.6665009, -816347.317472571],\n",
       "    [12559477.723969, -816456.407624469],\n",
       "    [12559645.0371636, -816578.292581333],\n",
       "    [12559774.0564535, -816687.158769617],\n",
       "    [12559992.3539749, -816879.751492652],\n",
       "    [12560217.4419853, -816995.240141635],\n",
       "    [12560371.9534385, -817058.315687284],\n",
       "    [12560448.4299287, -817122.962592338],\n",
       "    [12560506.9839809, -817245.410344462],\n",
       "    [12560501.9746038, -817419.823150263],\n",
       "    [12560336.3312015, -817601.307390879],\n",
       "    [12560080.6303311, -817790.199850739],\n",
       "    [12559837.7312022, -818043.067700709],\n",
       "    [12559699.3610752, -818411.989933787],\n",
       "    [12559573.6813701, -818909.764284561],\n",
       "    [12559498.0954358, -819220.553085588],\n",
       "    [12559310.4107743, -819278.356199797],\n",
       "    [12559248.405818, -819281.498895303],\n",
       "    [12559081.0926233, -819286.886373774],\n",
       "    [12558884.836361, -819296.763419147],\n",
       "    [12558717.5231664, -819303.497769385],\n",
       "    [12558490.7653636, -819323.476347104],\n",
       "    [12558309.8711911, -819337.394012711],\n",
       "    [12558123.856322, -819333.016681981],\n",
       "    [12557977.80515, -819316.966472587],\n",
       "    [12557799.4713258, -819292.72280944],\n",
       "    [12557621.1375015, -819262.867203406],\n",
       "    [12557445.2527061, -819242.888649941],\n",
       "    [12557278.8300673, -819241.20506434],\n",
       "    [12557137.0090361, -819252.09225223],\n",
       "    [12556825.3144619, -819296.538940822],\n",
       "    [12556545.011984, -819340.873429719],\n",
       "    [12556177.3237059, -819405.523286629],\n",
       "    [12555950.5659032, -819457.826877967],\n",
       "    [12555937.7641618, -819452.327141536],\n",
       "    [12555752.6398486, -819467.703957161],\n",
       "    [12555477.4580673, -819494.978174632],\n",
       "    [12555133.4808408, -819490.264111287],\n",
       "    [12554891.4722678, -819476.34640306],\n",
       "    [12554583.1172783, -819477.019840466],\n",
       "    [12554288.4545862, -819481.846142137],\n",
       "    [12553932.5661741, -819422.022482272],\n",
       "    [12553710.038512, -819328.863830105],\n",
       "    [12553642.1336226, -819281.274417047],\n",
       "    [12553507.1030803, -819203.043805945],\n",
       "    [12553423.8361012, -819151.413914538],\n",
       "    [12553293.0356995, -819068.918437974],\n",
       "    [12553158.0051572, -818990.688159555],\n",
       "    [12553029.7651038, -818977.331782803],\n",
       "    [12552859.8915608, -818991.249351934],\n",
       "    [12552656.9561291, -819022.339419565],\n",
       "    [12552526.1557274, -819052.868313471],\n",
       "    [12552297.7281323, -819091.1416958],\n",
       "    [12552017.4256545, -819128.40495839],\n",
       "    [12551290.3980601, -819212.471878836],\n",
       "    [12551002.5258569, -819245.470147972],\n",
       "    [12550894.6572704, -819266.009897937],\n",
       "    [12550730.6836604, -819310.905555696],\n",
       "    [12550574.5024148, -819381.167341124],\n",
       "    [12550275.4982626, -819482.070621297],\n",
       "    [12549945.1020139, -819658.174832538],\n",
       "    [12549594.3342984, -819882.430807992],\n",
       "    [12549293.7716733, -820066.730016894],\n",
       "    [12549055.8819214, -820213.878047117],\n",
       "    [12548847.8257931, -820281.671793706],\n",
       "    [12548432.492773, -820329.823368371],\n",
       "    [12548285.5510451, -820285.600242112],\n",
       "    [12548142.9507774, -820244.070946054],\n",
       "    [12548022.2804494, -820168.644853548],\n",
       "    [12547908.5119298, -820002.640507102],\n",
       "    [12547520.3408654, -819438.633922848],\n",
       "    [12547396.3309527, -819310.905555696],\n",
       "    [12547254.5099214, -819290.590265559],\n",
       "    [12547149.2016831, -819274.31559158],\n",
       "    [12546842.6278055, -819201.472460636],\n",
       "    [12546790.8642423, -819182.05512626],\n",
       "    [12546638.8018178, -819123.803168432],\n",
       "    [12546514.7919051, -819089.233637922],\n",
       "    [12546355.9389917, -819062.071880737],\n",
       "    [12546281.2436134, -819061.286210294]],\n",
       "   [[12560546.0571221, -816141.483408942],\n",
       "    [12560758.4547106, -816152.594386428],\n",
       "    [12560918.0868604, -816190.30438899],\n",
       "    [12561110.8922184, -816234.972821594],\n",
       "    [12561239.1322718, -816292.099091163],\n",
       "    [12561310.4880654, -816369.763986474],\n",
       "    [12561356.3516956, -816517.686764608],\n",
       "    [12561330.8595322, -816659.773850496],\n",
       "    [12561261.173531, -816847.877121373],\n",
       "    [12561076.0492178, -816990.863015972],\n",
       "    [12560575.7794262, -816909.26897429],\n",
       "    [12560280.2261781, -816743.387687374],\n",
       "    [12559939.6998558, -816589.964821122],\n",
       "    [12559682.3291931, -816391.424881926],\n",
       "    [12559534.6082288, -816217.689051493],\n",
       "    [12559495.5350875, -816108.374955285],\n",
       "    [12559501.4350205, -816062.696548342],\n",
       "    [12559552.4193473, -816010.620970574],\n",
       "    [12559718.841986, -815938.904907848],\n",
       "    [12560000.8142562, -815931.273157604],\n",
       "    [12560328.6501566, -816102.987819131],\n",
       "    [12560546.0571221, -816141.483408942]]],\n",
       "  'spatialReference': {'wkid': 102100, 'latestWkid': 3857}}}"
      ]
     },
     "execution_count": 14,
     "metadata": {},
     "output_type": "execute_result"
    }
   ],
   "source": [
    "jatim_fs = jatim_fset.features\n",
    "surabaya_f = [f for f in jatim_fs if \"SURABAYA\" in f.attributes[\"Kabupaten_\"]][0]\n",
    "surabaya_f.attributes"
   ]
  },
  {
   "cell_type": "code",
   "execution_count": 15,
   "metadata": {},
   "outputs": [
    {
     "data": {
      "text/html": [
       "<div>\n",
       "<style scoped>\n",
       "    .dataframe tbody tr th:only-of-type {\n",
       "        vertical-align: middle;\n",
       "    }\n",
       "\n",
       "    .dataframe tbody tr th {\n",
       "        vertical-align: top;\n",
       "    }\n",
       "\n",
       "    .dataframe thead th {\n",
       "        text-align: right;\n",
       "    }\n",
       "</style>\n",
       "<table border=\"1\" class=\"dataframe\">\n",
       "  <thead>\n",
       "    <tr style=\"text-align: right;\">\n",
       "      <th></th>\n",
       "      <th>FID</th>\n",
       "      <th>ID</th>\n",
       "      <th>Provinsi</th>\n",
       "      <th>Kabupaten_</th>\n",
       "      <th>ODP</th>\n",
       "      <th>SHAPE</th>\n",
       "    </tr>\n",
       "  </thead>\n",
       "  <tbody>\n",
       "    <tr>\n",
       "      <th>0</th>\n",
       "      <td>17</td>\n",
       "      <td>17</td>\n",
       "      <td>Jawa Timur</td>\n",
       "      <td>Kota SURABAYA</td>\n",
       "      <td>4350</td>\n",
       "      <td>{\"rings\": [[[12546281.2436134, -819061.2862102...</td>\n",
       "    </tr>\n",
       "  </tbody>\n",
       "</table>\n",
       "</div>"
      ],
      "text/plain": [
       "   FID  ID    Provinsi     Kabupaten_   ODP  \\\n",
       "0   17  17  Jawa Timur  Kota SURABAYA  4350   \n",
       "\n",
       "                                               SHAPE  \n",
       "0  {\"rings\": [[[12546281.2436134, -819061.2862102...  "
      ]
     },
     "execution_count": 15,
     "metadata": {},
     "output_type": "execute_result"
    }
   ],
   "source": [
    "surabaya_fset = jatim_layer.query(where=\"FID=17\", out_fields='FID,ID,Provinsi,Kabupaten_,ODP')\n",
    "surabaya_fset.sdf"
   ]
  },
  {
   "cell_type": "markdown",
   "metadata": {},
   "source": [
    "let's see the current ODP count of Surabaya then add 1 to it, or set it to 12 if for some reason it's not an int."
   ]
  },
  {
   "cell_type": "code",
   "execution_count": 16,
   "metadata": {},
   "outputs": [
    {
     "data": {
      "text/plain": [
       "4350"
      ]
     },
     "execution_count": 16,
     "metadata": {},
     "output_type": "execute_result"
    }
   ],
   "source": [
    "surabaya_f.attributes[\"ODP\"]"
   ]
  },
  {
   "cell_type": "code",
   "execution_count": 17,
   "metadata": {},
   "outputs": [
    {
     "data": {
      "text/plain": [
       "4351"
      ]
     },
     "execution_count": 17,
     "metadata": {},
     "output_type": "execute_result"
    }
   ],
   "source": [
    "#will this clone it?\n",
    "surabaya_f_edit = surabaya_f\n",
    "if isinstance(surabaya_f_edit.attributes[\"ODP\"], int):\n",
    "    surabaya_f_edit.attributes[\"ODP\"] += 1\n",
    "else:\n",
    "    surabaya_f_edit.attributes[\"ODP\"] = 12\n",
    "surabaya_f_edit.attributes[\"ODP\"]"
   ]
  },
  {
   "cell_type": "code",
   "execution_count": 18,
   "metadata": {},
   "outputs": [
    {
     "data": {
      "text/plain": [
       "4351"
      ]
     },
     "execution_count": 18,
     "metadata": {},
     "output_type": "execute_result"
    }
   ],
   "source": [
    "#of course it wouldn't.\n",
    "surabaya_f.attributes[\"ODP\"]"
   ]
  },
  {
   "cell_type": "markdown",
   "metadata": {},
   "source": [
    "## Updating Feature"
   ]
  },
  {
   "cell_type": "markdown",
   "metadata": {},
   "source": [
    "I'll use the original feature var to emphasize that they're the same.\n",
    "\n",
    "Use updates parameter to update feature. \n",
    "Use adds parameter to add new feature. \n",
    "Use deletes parameter to delete existing feature. \n",
    "Strangely enough, only deletes use string instead of list. It's the string of a feature's objectid."
   ]
  },
  {
   "cell_type": "code",
   "execution_count": 19,
   "metadata": {},
   "outputs": [
    {
     "data": {
      "text/plain": [
       "{'addResults': [],\n",
       " 'updateResults': [{'objectId': 17,\n",
       "   'uniqueId': 17,\n",
       "   'globalId': None,\n",
       "   'success': True}],\n",
       " 'deleteResults': []}"
      ]
     },
     "execution_count": 19,
     "metadata": {},
     "output_type": "execute_result"
    }
   ],
   "source": [
    "update_result = jatim_layer.edit_features(updates=[surabaya_f])\n",
    "update_result"
   ]
  },
  {
   "cell_type": "code",
   "execution_count": 20,
   "metadata": {},
   "outputs": [
    {
     "data": {
      "text/html": [
       "<div>\n",
       "<style scoped>\n",
       "    .dataframe tbody tr th:only-of-type {\n",
       "        vertical-align: middle;\n",
       "    }\n",
       "\n",
       "    .dataframe tbody tr th {\n",
       "        vertical-align: top;\n",
       "    }\n",
       "\n",
       "    .dataframe thead th {\n",
       "        text-align: right;\n",
       "    }\n",
       "</style>\n",
       "<table border=\"1\" class=\"dataframe\">\n",
       "  <thead>\n",
       "    <tr style=\"text-align: right;\">\n",
       "      <th></th>\n",
       "      <th>FID</th>\n",
       "      <th>ID</th>\n",
       "      <th>Provinsi</th>\n",
       "      <th>Kabupaten_</th>\n",
       "      <th>ODP</th>\n",
       "      <th>SHAPE</th>\n",
       "    </tr>\n",
       "  </thead>\n",
       "  <tbody>\n",
       "    <tr>\n",
       "      <th>0</th>\n",
       "      <td>17</td>\n",
       "      <td>17</td>\n",
       "      <td>Jawa Timur</td>\n",
       "      <td>Kota SURABAYA</td>\n",
       "      <td>4351</td>\n",
       "      <td>{\"rings\": [[[12546281.2436134, -819061.2862102...</td>\n",
       "    </tr>\n",
       "  </tbody>\n",
       "</table>\n",
       "</div>"
      ],
      "text/plain": [
       "   FID  ID    Provinsi     Kabupaten_   ODP  \\\n",
       "0   17  17  Jawa Timur  Kota SURABAYA  4351   \n",
       "\n",
       "                                               SHAPE  \n",
       "0  {\"rings\": [[[12546281.2436134, -819061.2862102...  "
      ]
     },
     "execution_count": 20,
     "metadata": {},
     "output_type": "execute_result"
    }
   ],
   "source": [
    "surabaya_fset_edit = jatim_layer.query(where=\"FID=17\", out_fields='FID,ID,Provinsi,Kabupaten_,ODP')\n",
    "surabaya_fset_edit.sdf"
   ]
  },
  {
   "cell_type": "markdown",
   "metadata": {},
   "source": [
    "It should be reflected in the original jatim_layer object. But is it reflected in the full feature layer?"
   ]
  },
  {
   "cell_type": "code",
   "execution_count": 21,
   "metadata": {},
   "outputs": [
    {
     "data": {
      "application/vnd.jupyter.widget-view+json": {
       "model_id": "0583d453d9f24cbd8f038e8a21747f8c",
       "version_major": 2,
       "version_minor": 0
      },
      "text/plain": [
       "MapView(layout=Layout(height='400px', width='100%'))"
      ]
     },
     "metadata": {},
     "output_type": "display_data"
    },
    {
     "data": {
      "text/html": [
       "<div class=\"map-static-img-preview-9e0aebe7-336c-4aed-88ec-dfe9c7dbcc75\"><img src=\"\"></img></div>"
      ],
      "text/plain": [
       "<IPython.core.display.HTML object>"
      ]
     },
     "metadata": {},
     "output_type": "display_data"
    }
   ],
   "source": [
    "map1 = gis.map(\"Surabaya\", zoomlevel=12)\n",
    "map1.add_layer(jatim)\n",
    "map1"
   ]
  },
  {
   "cell_type": "markdown",
   "metadata": {},
   "source": [
    "So it is reflected in the original full feature layer. \n",
    "\n",
    "Is it reflected in the published feature layer though?"
   ]
  },
  {
   "cell_type": "code",
   "execution_count": 22,
   "metadata": {
    "scrolled": true
   },
   "outputs": [
    {
     "data": {
      "application/vnd.jupyter.widget-view+json": {
       "model_id": "8668f6e05a54463abfb8b385af40c89e",
       "version_major": 2,
       "version_minor": 0
      },
      "text/plain": [
       "MapView(layout=Layout(height='400px', width='100%'))"
      ]
     },
     "metadata": {},
     "output_type": "display_data"
    },
    {
     "data": {
      "text/html": [
       "<div class=\"map-static-img-preview-8edac332-21e1-4f7a-a0c7-3f7b41f30bd0\"><img src=\"\"></img></div>"
      ],
      "text/plain": [
       "<IPython.core.display.HTML object>"
      ]
     },
     "metadata": {},
     "output_type": "display_data"
    }
   ],
   "source": [
    "jatim_pub = gis.content.get(jatim_id)\n",
    "map2 = gis.map(\"Surabaya\", zoomlevel=12)\n",
    "map2.add_layer(jatim_pub)\n",
    "map2"
   ]
  },
  {
   "cell_type": "markdown",
   "metadata": {},
   "source": [
    "Heck it does. So the changes made are automatically published too.\n",
    "\n",
    "What if I only want it locally? Can I?"
   ]
  },
  {
   "cell_type": "code",
   "execution_count": 23,
   "metadata": {},
   "outputs": [
    {
     "data": {
      "text/plain": [
       "4351"
      ]
     },
     "execution_count": 23,
     "metadata": {},
     "output_type": "execute_result"
    }
   ],
   "source": [
    "surabaya_f.attributes[\"ODP\"]"
   ]
  },
  {
   "cell_type": "code",
   "execution_count": 24,
   "metadata": {},
   "outputs": [
    {
     "data": {
      "text/plain": [
       "4352"
      ]
     },
     "execution_count": 24,
     "metadata": {},
     "output_type": "execute_result"
    }
   ],
   "source": [
    "surabaya_f.attributes[\"ODP\"] += 1\n",
    "surabaya_f.attributes[\"ODP\"]"
   ]
  },
  {
   "cell_type": "code",
   "execution_count": 25,
   "metadata": {},
   "outputs": [
    {
     "data": {
      "text/html": [
       "<div>\n",
       "<style scoped>\n",
       "    .dataframe tbody tr th:only-of-type {\n",
       "        vertical-align: middle;\n",
       "    }\n",
       "\n",
       "    .dataframe tbody tr th {\n",
       "        vertical-align: top;\n",
       "    }\n",
       "\n",
       "    .dataframe thead th {\n",
       "        text-align: right;\n",
       "    }\n",
       "</style>\n",
       "<table border=\"1\" class=\"dataframe\">\n",
       "  <thead>\n",
       "    <tr style=\"text-align: right;\">\n",
       "      <th></th>\n",
       "      <th>FID</th>\n",
       "      <th>ID</th>\n",
       "      <th>Provinsi</th>\n",
       "      <th>Kabupaten_</th>\n",
       "      <th>ODP</th>\n",
       "      <th>SHAPE</th>\n",
       "    </tr>\n",
       "  </thead>\n",
       "  <tbody>\n",
       "    <tr>\n",
       "      <th>0</th>\n",
       "      <td>17</td>\n",
       "      <td>17</td>\n",
       "      <td>Jawa Timur</td>\n",
       "      <td>Kota SURABAYA</td>\n",
       "      <td>4351</td>\n",
       "      <td>{\"rings\": [[[12546281.2436134, -819061.2862102...</td>\n",
       "    </tr>\n",
       "  </tbody>\n",
       "</table>\n",
       "</div>"
      ],
      "text/plain": [
       "   FID  ID    Provinsi     Kabupaten_   ODP  \\\n",
       "0   17  17  Jawa Timur  Kota SURABAYA  4351   \n",
       "\n",
       "                                               SHAPE  \n",
       "0  {\"rings\": [[[12546281.2436134, -819061.2862102...  "
      ]
     },
     "execution_count": 25,
     "metadata": {},
     "output_type": "execute_result"
    }
   ],
   "source": [
    "surabaya_fset_edit = jatim_layer.query(where=\"FID=17\", out_fields='FID,ID,Provinsi,Kabupaten_,ODP')\n",
    "surabaya_fset_edit.sdf"
   ]
  },
  {
   "cell_type": "markdown",
   "metadata": {},
   "source": [
    "It doesn't work. So changes must be published."
   ]
  },
  {
   "cell_type": "code",
   "execution_count": null,
   "metadata": {},
   "outputs": [],
   "source": []
  }
 ],
 "metadata": {
  "kernelspec": {
   "display_name": "Python 3",
   "language": "python",
   "name": "python3"
  },
  "language_info": {
   "codemirror_mode": {
    "name": "ipython",
    "version": 3
   },
   "file_extension": ".py",
   "mimetype": "text/x-python",
   "name": "python",
   "nbconvert_exporter": "python",
   "pygments_lexer": "ipython3",
   "version": "3.7.6"
  }
 },
 "nbformat": 4,
 "nbformat_minor": 4
}
